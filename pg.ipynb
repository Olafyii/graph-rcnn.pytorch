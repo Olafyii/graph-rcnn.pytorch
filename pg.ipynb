{
 "metadata": {
  "language_info": {
   "codemirror_mode": {
    "name": "ipython",
    "version": 3
   },
   "file_extension": ".py",
   "mimetype": "text/x-python",
   "name": "python",
   "nbconvert_exporter": "python",
   "pygments_lexer": "ipython3",
   "version": "3.7.7-final"
  },
  "orig_nbformat": 2,
  "kernelspec": {
   "name": "python3",
   "display_name": "Python 3.7.7 64-bit ('vqa': conda)",
   "metadata": {
    "interpreter": {
     "hash": "fccf95916b1ceef458ccdf9863e0e67da2fa28fbdcc71e75f9e834e918319ed8"
    }
   }
  }
 },
 "nbformat": 4,
 "nbformat_minor": 2,
 "cells": [
  {
   "cell_type": "code",
   "execution_count": null,
   "metadata": {},
   "outputs": [],
   "source": [
    "import torch\n",
    "import torch.nn.functional as F\n",
    "import numpy as np"
   ]
  },
  {
   "cell_type": "code",
   "execution_count": null,
   "metadata": {},
   "outputs": [],
   "source": [
    "a = torch.from_numpy(np.array([-1.]))\n",
    "b = torch.from_numpy(np.array([0.]))\n",
    "F.binary_cross_entropy_with_logits(a,b)"
   ]
  },
  {
   "cell_type": "code",
   "execution_count": null,
   "metadata": {},
   "outputs": [],
   "source": [
    "from PIL import Image\n",
    "a = np.zeros((128,128))\n",
    "Im"
   ]
  },
  {
   "cell_type": "code",
   "execution_count": null,
   "metadata": {},
   "outputs": [],
   "source": [
    "a = [1,2]\n",
    "b = [3,4]\n",
    "for i in zip(a,b):\n",
    "    print(i)"
   ]
  },
  {
   "cell_type": "code",
   "execution_count": null,
   "metadata": {},
   "outputs": [],
   "source": [
    "num = int(input('Enter a number:'))\n",
    "if num >= 0:\n",
    "    if num > 0:\n",
    "        print('pos')\n",
    "    else:\n",
    "        print('zero')\n",
    "else:\n",
    "    print('neg')"
   ]
  },
  {
   "cell_type": "code",
   "execution_count": null,
   "metadata": {},
   "outputs": [],
   "source": [
    "for i in range(3):\n",
    "    print('when i is %d,'%i)\n",
    "    for j in range(i+1):\n",
    "        print('j is %d'%j)\n",
    "    print()"
   ]
  },
  {
   "cell_type": "code",
   "execution_count": null,
   "metadata": {},
   "outputs": [],
   "source": [
    "_list = []\n",
    "for i in range(1, 21):\n",
    "    if i % 2 == 1:\n",
    "        _list.append(i)\n",
    "\n",
    "_list.append(21)\n",
    "\n",
    "_list.insert(3, 23)\n",
    "\n",
    "for i in range(1, 21):\n",
    "    if i % 2 == 0:\n",
    "        _list.append(i)\n",
    "\n",
    "for index, item in enumerate(_list):\n",
    "    if item == 15:\n",
    "        print('15 is the %d-th item'%(index + 1))\n",
    "\n",
    "print('last item is %d'%_list.pop())\n",
    "\n",
    "print('list:\\n', _list)\n",
    "del _list[9]\n",
    "print('10-th item deleted. list:\\n', _list)\n",
    "\n",
    "new_list = []\n",
    "for item in _list:\n",
    "    if item <= 13:\n",
    "        new_list.append(item)\n",
    "print('new list:', new_list)\n",
    "\n",
    "new_list2 = []\n",
    "for item in _list:\n",
    "    if item % 2 == 0:\n",
    "        new_list2.append(int(item/2))\n",
    "    else:\n",
    "        new_list2.append(item)\n",
    "print('new list:', new_list2)"
   ]
  },
  {
   "cell_type": "code",
   "execution_count": null,
   "metadata": {},
   "outputs": [],
   "source": [
    "import h5py\n",
    "roi_db = h5py.File('C:\\\\E\\\\NUS\\\\Dissertation\\\\Code\\\\graph-rcnn.pytorch\\\\datasets\\\\gqa\\\\VG-SGG.h5', 'r')"
   ]
  },
  {
   "cell_type": "code",
   "execution_count": null,
   "metadata": {},
   "outputs": [],
   "source": [
    "roi_db['labels'][:, 0].shape"
   ]
  },
  {
   "cell_type": "code",
   "execution_count": 1,
   "metadata": {},
   "outputs": [],
   "source": [
    "import dill\n",
    "f  = open('C:\\\\Users\\\\80409\\\\Desktop\\\\temp\\\\ot.dill', 'rb')\n",
    "o, t = dill.load(f)\n",
    "f.close()"
   ]
  },
  {
   "cell_type": "code",
   "execution_count": 2,
   "metadata": {},
   "outputs": [],
   "source": [
    "o_BoxList, o_BoxPairList = o[0][0], o[1][0]\n",
    "t_BoxList = t[0]"
   ]
  },
  {
   "cell_type": "code",
   "execution_count": 3,
   "metadata": {},
   "outputs": [
    {
     "output_type": "stream",
     "name": "stdout",
     "text": [
      "BoxList(num_boxes=10, image_width=800, image_height=800, mode=xyxy)\nlabels torch.Size([10])\npred_labels torch.Size([10, 10])\nrelation_labels torch.Size([18, 3])\n"
     ]
    }
   ],
   "source": [
    "print(t_BoxList)\n",
    "for key in t_BoxList.fields():\n",
    "    print(key, t_BoxList.get_field(key).size())"
   ]
  },
  {
   "cell_type": "code",
   "execution_count": 4,
   "metadata": {},
   "outputs": [
    {
     "output_type": "stream",
     "name": "stdout",
     "text": [
      "BoxPairList(num_boxes=256, image_width=800, image_height=800, mode=xyxy)\nidx_pairs torch.Size([256, 2])\nscores torch.Size([256, 51])\n"
     ]
    }
   ],
   "source": [
    "print(o_BoxPairList)\n",
    "for key in o_BoxPairList.fields():\n",
    "    print(key, o_BoxPairList.get_field(key).size())"
   ]
  },
  {
   "cell_type": "code",
   "execution_count": 35,
   "metadata": {},
   "outputs": [
    {
     "output_type": "stream",
     "name": "stdout",
     "text": [
      "BoxList(num_boxes=26, image_width=800, image_height=800, mode=xyxy)\nlabels torch.Size([26])\nscores torch.Size([26])\nlogits torch.Size([26, 151])\nfeatures torch.Size([26, 2048, 1, 1])\n"
     ]
    }
   ],
   "source": [
    "print(o_BoxList)\n",
    "for key in o_BoxList.fields():\n",
    "    print(key, o_BoxList.get_field(key).size())"
   ]
  },
  {
   "cell_type": "code",
   "execution_count": 36,
   "metadata": {},
   "outputs": [],
   "source": [
    "import torch\n",
    "import numpy as np"
   ]
  },
  {
   "cell_type": "code",
   "execution_count": 82,
   "metadata": {},
   "outputs": [
    {
     "output_type": "stream",
     "name": "stdout",
     "text": [
      "\u001b[1;31;40mx\u001b[0m type: torch.Tensor, size: torch.Size([3])\n\u001b[1;31;40mx\u001b[0m type: <class 'list'>, len: 3\n\u001b[1;31;40mFirst element of x\u001b[0m type: <class 'int'>, value: 1\n\u001b[1;31;40mx\u001b[0m type: np.ndarray, shape: (3,)\n\u001b[1;31;40mx\u001b[0m type: <class 'tuple'>, len: 3\n\u001b[1;31;40mFirst element of x\u001b[0m type: <class 'int'>, value: 1\n\u001b[1;31;40mx\u001b[0m type: dict, keys: dict_keys([1])\n"
     ]
    }
   ],
   "source": [
    "def inspect(name, x):\n",
    "    if type(x) in [list, tuple]:\n",
    "        print('\\033[1;31;40m%s\\033[0m type: %s, len: %s'%(name, str(type(x)), str(len(x))))\n",
    "        inspect('First element of %s'%name, x[0])\n",
    "    elif type(x) == torch.Tensor:\n",
    "        print('\\033[1;31;40m%s\\033[0m type: torch.Tensor, size: %s'%(name, str(x.size())))\n",
    "    elif type(x) == np.ndarray:\n",
    "        print('\\033[1;31;40m%s\\033[0m type: np.ndarray, shape: %s'%(name, str(x.shape)))\n",
    "    elif type(x) in [int, float, np.int8, np.int16, np.int32, np.int64, np.uint8, np.uint16, np.uint32, np.uint64]:\n",
    "        print('\\033[1;31;40m%s\\033[0m type: %s, value: %s'%(name, str(type(x)), x))\n",
    "    elif type(x) == dict:\n",
    "        print('\\033[1;31;40m%s\\033[0m type: dict, keys: %s'%(name, str(x.keys())))\n",
    "    else:\n",
    "        print('\\033[1;31;40m%s\\033[0m type: %s'%(name, str(type(x))))\n",
    "inspect('x', torch.zeros((3)))\n",
    "inspect('x', [1,2,3])\n",
    "inspect('x', np.array([1,2,3]))\n",
    "inspect('x', (1,2,3))\n",
    "inspect('x', {1:1})"
   ]
  },
  {
   "cell_type": "code",
   "execution_count": 3,
   "metadata": {},
   "outputs": [
    {
     "output_type": "stream",
     "name": "stdout",
     "text": [
      "\u001b[1;32;40ms\u001b[0m\n"
     ]
    }
   ],
   "source": [
    "print(\"\\033[1;32;40m%s\\033[0m\"%'s')"
   ]
  },
  {
   "cell_type": "code",
   "execution_count": 2,
   "metadata": {},
   "outputs": [],
   "source": [
    "import dill\n",
    "f = open(\"C:\\\\E\\\\data\\\\VisualGenome\\\\scene-graph-TF-release\\\\data_tools\\\\group_attr_return.dill\", 'rb')\n",
    "attr_book, attr_to_idx, idx_to_attr, group_size = dill.load(f)\n",
    "f.close()"
   ]
  },
  {
   "cell_type": "code",
   "execution_count": null,
   "metadata": {},
   "outputs": [],
   "source": []
  }
 ]
}